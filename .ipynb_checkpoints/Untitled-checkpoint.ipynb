{
 "cells": [
  {
   "cell_type": "code",
   "execution_count": 20,
   "id": "5120877a",
   "metadata": {},
   "outputs": [
    {
     "name": "stdout",
     "output_type": "stream",
     "text": [
      "The encoded room is 332\n",
      "Room Number not found\n"
     ]
    }
   ],
   "source": [
    "import pandas as pd\n",
    "import numpy as np\n",
    "from sklearn.preprocessing import LabelEncoder\n",
    "from sklearn.tree import DecisionTreeClassifier\n",
    "\n",
    "df = pd.read_csv(\"healthcare_dataset.csv\")\n",
    "\n",
    "data_encoded = df.apply(LabelEncoder().fit_transform)\n",
    "\n",
    "Patient_data = data_encoded[['Name','Age','Gender']]\n",
    "Room_Number = data_encoded['Room Number']\n",
    "Medication_Prescribed = data_encoded['Medication']\n",
    "Condition_diagnosed = data_encoded['Medical Condition']\n",
    "\n",
    "clf = DecisionTreeClassifier(random_state=42)\n",
    "clf.fit(Patient_data,Room_Number)\n",
    "\n",
    "def identify_patient_room(name,age,gender):\n",
    "    input_data = pd.DataFrame({\n",
    "        'Name':[name],\n",
    "        'Age':[age],\n",
    "        'Gender':[gender]\n",
    "    })\n",
    "    input_encoded = input_data.apply(LabelEncoder().fit_transform)\n",
    "    \n",
    "    predicted_room = clf.predict(input_encoded)\n",
    "    return predicted_room[0]\n",
    "\n",
    "predict_room_occupied = identify_patient_room('Tiffany Ramirez', 81, 'Female')\n",
    "\n",
    "print(f\"The encoded room is {predict_room_occupied}\")\n",
    "\n",
    "def decode_column(Room_Number, label_encoder):\n",
    "    decoded_data = label_encoder.inverse_transform(np.array([Room_Number]))\n",
    "    return decoded_data\n",
    "\n",
    "decoded_room = decode_column(predict_room_occupied, LabelEncoder().fit(Room_Number))\n",
    "\n",
    "actual_room_number = df.loc[0, 'Room Number']  \n",
    "if decoded_room[0] == actual_room_number:\n",
    "    print(f\"The Patient's room is {actual_room_number}\")\n",
    "else:\n",
    "    print('Room Number not found')"
   ]
  },
  {
   "cell_type": "code",
   "execution_count": 23,
   "id": "6c6dfc4a",
   "metadata": {},
   "outputs": [
    {
     "name": "stdout",
     "output_type": "stream",
     "text": [
      "The encoded meds is 3\n",
      "meds not found\n"
     ]
    }
   ],
   "source": [
    "import pandas as pd\n",
    "import numpy as np\n",
    "from sklearn.preprocessing import LabelEncoder\n",
    "from sklearn.tree import DecisionTreeClassifier\n",
    "\n",
    "df = pd.read_csv(\"healthcare_dataset.csv\")\n",
    "\n",
    "data_encoded = df.apply(LabelEncoder().fit_transform)\n",
    "\n",
    "Patient_data = data_encoded[['Name','Age','Gender']]\n",
    "Room_Number = data_encoded['Room Number']\n",
    "Medication_Prescribed = data_encoded['Medication']\n",
    "Condition_diagnosed = data_encoded['Medical Condition']\n",
    "\n",
    "clf = DecisionTreeClassifier(random_state=42)\n",
    "clf.fit(Patient_data,Medication_Prescribed)\n",
    "\n",
    "def identify_medication_prescribed(name,age,gender):\n",
    "    input_data = pd.DataFrame({\n",
    "        'Name':[name],\n",
    "        'Age':[age],\n",
    "        'Gender':[gender]\n",
    "    })\n",
    "    input_encoded = input_data.apply(LabelEncoder().fit_transform)\n",
    "    \n",
    "    predicted_meds = clf.predict(input_encoded)\n",
    "    return predicted_meds[0]\n",
    "\n",
    "predict_meds_prescribed = identify_patient_room('Tiffany Ramirez', 81, 'Female')\n",
    "\n",
    "print(f\"The encoded meds is {predict_meds_prescribed}\")\n",
    "\n",
    "def decode_column(Medication_Prescribed, label_encoder):\n",
    "    decoded_data = label_encoder.inverse_transform(np.array([Medication_Prescribed]))\n",
    "    return decoded_data\n",
    "\n",
    "decoded_meds = decode_column(predict_meds_prescribed, LabelEncoder().fit(Room_Number))\n",
    "\n",
    "actual_meds = df.loc[0, 'Medication']  \n",
    "if decoded_room[0] == actual_room_number:\n",
    "    print(f\"The Patient's meds is {actual_meds}\")\n",
    "else:\n",
    "    print('meds not found')"
   ]
  },
  {
   "cell_type": "code",
   "execution_count": null,
   "id": "4e5149ec",
   "metadata": {},
   "outputs": [],
   "source": []
  }
 ],
 "metadata": {
  "kernelspec": {
   "display_name": "Python 3 (ipykernel)",
   "language": "python",
   "name": "python3"
  },
  "language_info": {
   "codemirror_mode": {
    "name": "ipython",
    "version": 3
   },
   "file_extension": ".py",
   "mimetype": "text/x-python",
   "name": "python",
   "nbconvert_exporter": "python",
   "pygments_lexer": "ipython3",
   "version": "3.10.9"
  }
 },
 "nbformat": 4,
 "nbformat_minor": 5
}
